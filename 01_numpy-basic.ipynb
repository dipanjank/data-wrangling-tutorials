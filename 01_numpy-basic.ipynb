{
 "cells": [
  {
   "cell_type": "markdown",
   "id": "d7a86c26",
   "metadata": {},
   "source": [
    "Numpy Basics\n",
    "---------------------\n",
    "\n",
    "Numpy is the universal standard for working with numerical data in Python, and it’s at the core of the scientific Python and PyData ecosystems. In this tutorial we will understand the basic concepts of working with numpy as a user. "
   ]
  },
  {
   "cell_type": "markdown",
   "id": "ece5358a",
   "metadata": {},
   "source": [
    "## Tabular Data Container\n",
    "\n",
    "Numpy is meant to handle structured or tabular data. In numpy, this is represented as an <a href=\"https://numpy.org/doc/stable/reference/arrays.ndarray.html\">ndarray</a>, or n-dimensional array. You can create an ndarray in various ways\n",
    "\n",
    "* Read data from file, e.g. using ``np.loadtxt`` or ``np.genfromtxt`` methods\n",
    "* From python list and tuples\n",
    "* Preset values, like 0 or 1"
   ]
  },
  {
   "cell_type": "code",
   "execution_count": 1,
   "id": "599b91b3",
   "metadata": {},
   "outputs": [
    {
     "data": {
      "text/plain": [
       "array([102., 202., 302.])"
      ]
     },
     "execution_count": 1,
     "metadata": {},
     "output_type": "execute_result"
    }
   ],
   "source": [
    "import numpy as np\n",
    "\n",
    "# From python lists\n",
    "x = np.array([100, 200, 300])\n",
    "\n",
    "# From constant\n",
    "y = np.ones(shape=[3])\n",
    "z = np.ones_like(y)\n",
    "\n",
    "x + y + z"
   ]
  },
  {
   "cell_type": "markdown",
   "id": "2c843e24",
   "metadata": {},
   "source": [
    "## Properties of a Numpy Array\n",
    "\n",
    "A numpy array is composed of 4 main attributes:\n",
    "\n",
    "* ``data`` is the underlying data in the array lives in a contiguous, one dimensional byte array or buffer in memory. It is in row-major format but can also be column-major if you explicitly specify.\n",
    "* ``shape`` contains the number of elements of the array along each dimension.\n",
    "* ``dtype`` data types of the elements.\n",
    "* ``strides`` number of steps to take in the internal buffer to go the next element along a specific dimension."
   ]
  },
  {
   "cell_type": "code",
   "execution_count": 2,
   "id": "79934558",
   "metadata": {},
   "outputs": [
    {
     "data": {
      "text/plain": [
       "(<memory at 0x7f68929aaf40>, (100,), dtype('int64'), (8,))"
      ]
     },
     "execution_count": 2,
     "metadata": {},
     "output_type": "execute_result"
    }
   ],
   "source": [
    "x = np.arange(1000, 1100)\n",
    "x.data, x.shape, x.dtype, x.strides"
   ]
  },
  {
   "cell_type": "markdown",
   "id": "b31d300d",
   "metadata": {},
   "source": [
    "## Numpy dtype hierarchy\n",
    "\n",
    "<img src=\"https://numpy.org/doc/stable/_images/dtype-hierarchy.png\" />"
   ]
  },
  {
   "cell_type": "markdown",
   "id": "359a35d2",
   "metadata": {},
   "source": [
    "## Array Indexing"
   ]
  },
  {
   "cell_type": "markdown",
   "id": "82969f3b",
   "metadata": {},
   "source": [
    "Individual elements can be accessed or updated using the indexing operator."
   ]
  },
  {
   "cell_type": "code",
   "execution_count": 3,
   "id": "69330824",
   "metadata": {},
   "outputs": [
    {
     "name": "stdout",
     "output_type": "stream",
     "text": [
      "1000 [1000 1001 1002 1003 1004] 1099\n"
     ]
    }
   ],
   "source": [
    "# 1D\n",
    "print(x[0], x[:5], x[-1])"
   ]
  },
  {
   "cell_type": "code",
   "execution_count": 4,
   "id": "fa5e171b",
   "metadata": {},
   "outputs": [
    {
     "name": "stdout",
     "output_type": "stream",
     "text": [
      "100 [100 200] [200  70]\n"
     ]
    }
   ],
   "source": [
    "# 2D\n",
    "x = np.array([[100, 200], [50, 70]])\n",
    "print(x[0, 0], x[0, :], x[:, 1])"
   ]
  },
  {
   "cell_type": "code",
   "execution_count": 5,
   "id": "a8601085",
   "metadata": {},
   "outputs": [
    {
     "data": {
      "text/plain": [
       "array([[  2, 200],\n",
       "       [ 50,  70]])"
      ]
     },
     "execution_count": 5,
     "metadata": {},
     "output_type": "execute_result"
    }
   ],
   "source": [
    "# Update one element\n",
    "x[0, 0] = 2\n",
    "x"
   ]
  },
  {
   "cell_type": "code",
   "execution_count": 6,
   "id": "f0b9a1a1",
   "metadata": {},
   "outputs": [
    {
     "data": {
      "text/plain": [
       "array([[10, 20],\n",
       "       [50, 70]])"
      ]
     },
     "execution_count": 6,
     "metadata": {},
     "output_type": "execute_result"
    }
   ],
   "source": [
    "# Update along one dimension\n",
    "x[0, :] = [10, 20]\n",
    "x"
   ]
  },
  {
   "cell_type": "code",
   "execution_count": 7,
   "id": "384e55f4",
   "metadata": {},
   "outputs": [
    {
     "data": {
      "text/plain": [
       "array([2, 4, 6, 8])"
      ]
     },
     "execution_count": 7,
     "metadata": {},
     "output_type": "execute_result"
    }
   ],
   "source": [
    "# Indexing with Booleans\n",
    "x = np.arange(1, 10)\n",
    "odd_index = [i % 2 == 0 for i in x]\n",
    "x[odd_index]"
   ]
  },
  {
   "cell_type": "markdown",
   "id": "3964ad3f",
   "metadata": {},
   "source": [
    "In numpy, array slices usually do not require a memory copy. The ``data`` of the slice is actually a \"view\" of the data of the original ndarray. We can check this using the ``base`` attribute or the ``flags.owndata`` attribute. "
   ]
  },
  {
   "cell_type": "code",
   "execution_count": 8,
   "id": "6235a829",
   "metadata": {},
   "outputs": [
    {
     "name": "stdout",
     "output_type": "stream",
     "text": [
      "True True\n"
     ]
    }
   ],
   "source": [
    "x = np.array([[1, 2], [3, 4]])\n",
    "y = x[0, :]\n",
    "\n",
    "print(x.base is None, id(y.base) == id(x)) "
   ]
  },
  {
   "cell_type": "code",
   "execution_count": 9,
   "id": "627894da",
   "metadata": {},
   "outputs": [
    {
     "data": {
      "text/plain": [
       "  C_CONTIGUOUS : True\n",
       "  F_CONTIGUOUS : True\n",
       "  OWNDATA : False\n",
       "  WRITEABLE : True\n",
       "  ALIGNED : True\n",
       "  WRITEBACKIFCOPY : False\n",
       "  UPDATEIFCOPY : False"
      ]
     },
     "execution_count": 9,
     "metadata": {},
     "output_type": "execute_result"
    }
   ],
   "source": [
    "y.flags"
   ]
  },
  {
   "cell_type": "markdown",
   "id": "4fbb968e",
   "metadata": {},
   "source": [
    "By default, updating the slice also updates the owner's data. This can sometimes lead to accidental updates in multiple arrays sharing the underlying data."
   ]
  },
  {
   "cell_type": "code",
   "execution_count": 10,
   "id": "a67812af",
   "metadata": {},
   "outputs": [
    {
     "name": "stdout",
     "output_type": "stream",
     "text": [
      "[100   2]\n",
      "[[100   2]\n",
      " [  3   4]]\n"
     ]
    }
   ],
   "source": [
    "y[0] = 100\n",
    "print(y)\n",
    "print(x)"
   ]
  },
  {
   "cell_type": "markdown",
   "id": "caaa2bef",
   "metadata": {},
   "source": [
    "There is no default \"copy on write\" mechanism, so we need to manually copy the slice to prevent the update at source. Alternatively,\n",
    "we can set ``flags.writeable`` to False."
   ]
  },
  {
   "cell_type": "code",
   "execution_count": 11,
   "id": "cade4bed",
   "metadata": {},
   "outputs": [
    {
     "ename": "ValueError",
     "evalue": "assignment destination is read-only",
     "output_type": "error",
     "traceback": [
      "\u001b[0;31m---------------------------------------------------------------------------\u001b[0m",
      "\u001b[0;31mValueError\u001b[0m                                Traceback (most recent call last)",
      "\u001b[0;32m/tmp/ipykernel_4309/2871960863.py\u001b[0m in \u001b[0;36m<module>\u001b[0;34m\u001b[0m\n\u001b[1;32m      1\u001b[0m \u001b[0my\u001b[0m\u001b[0;34m.\u001b[0m\u001b[0mflags\u001b[0m\u001b[0;34m.\u001b[0m\u001b[0mwriteable\u001b[0m \u001b[0;34m=\u001b[0m \u001b[0;32mFalse\u001b[0m\u001b[0;34m\u001b[0m\u001b[0;34m\u001b[0m\u001b[0m\n\u001b[0;32m----> 2\u001b[0;31m \u001b[0my\u001b[0m\u001b[0;34m[\u001b[0m\u001b[0;36m0\u001b[0m\u001b[0;34m]\u001b[0m \u001b[0;34m=\u001b[0m \u001b[0;36m200\u001b[0m\u001b[0;34m\u001b[0m\u001b[0;34m\u001b[0m\u001b[0m\n\u001b[0m",
      "\u001b[0;31mValueError\u001b[0m: assignment destination is read-only"
     ]
    }
   ],
   "source": [
    "y.flags.writeable = False\n",
    "y[0] = 200"
   ]
  },
  {
   "cell_type": "markdown",
   "id": "16cde644",
   "metadata": {},
   "source": [
    "## Iterating over Arrays\n",
    "\n",
    "This is usually an anti-pattern. Most common use-cases are covered by numpy library functions which are internally vectorized. For the same reason, incrementally extending a numpy array is also an anti-pattern. Instead, you should first allocate an array of the target shape and then update it in-place.\n",
    "\n",
    "The built-in \"for\" loop always iterates over the first dimension"
   ]
  },
  {
   "cell_type": "code",
   "execution_count": 12,
   "id": "91ebebf5",
   "metadata": {},
   "outputs": [
    {
     "name": "stdout",
     "output_type": "stream",
     "text": [
      "Sum of row 0 is 3\n",
      "Sum of row 1 is 7\n"
     ]
    }
   ],
   "source": [
    "x = np.array([[1, 2], [3, 4]])\n",
    "\n",
    "# Row-wise sum of x\n",
    "for idx, row in enumerate(x):\n",
    "    print(f\"Sum of row {idx} is {sum(row)}\")"
   ]
  },
  {
   "cell_type": "markdown",
   "id": "2e2055eb",
   "metadata": {},
   "source": [
    "For more complicated use-cases:\n",
    "* <a href=\"https://numpy.org/doc/stable/reference/generated/numpy.ndindex.html\">np.ndindex</a> generates n-dimension index values.\n",
    "\n",
    "* <a href=\"https://numpy.org/doc/stable/reference/arrays.nditer.html\">np.nditer<a/> is useful to iterate over one or more arrays element by element.\n",
    "    \n",
    "Note that neither of these methods are particularly useful in iterating over arrays along arbitrary dimensions. There's also no performance improvement over transposing the array and using the built-in for loop."
   ]
  },
  {
   "cell_type": "code",
   "execution_count": 13,
   "id": "c7bdb964",
   "metadata": {},
   "outputs": [
    {
     "name": "stdout",
     "output_type": "stream",
     "text": [
      "Row wise sums:\n",
      "3\n",
      "7\n",
      "Column wise sums:\n",
      "4\n",
      "6\n"
     ]
    }
   ],
   "source": [
    "x = np.array([[1, 2], [3, 4]])\n",
    "\n",
    "# row wise sum of x\n",
    "print(\"Row wise sums:\")\n",
    "for row_index in np.ndindex(x.shape[0]):\n",
    "    print(sum(x[row_index]))\n",
    "\n",
    "print(\"Column wise sums:\")\n",
    "# column wise sum of x\n",
    "# Here we need to transpose x appropriately, so the x[col_index] returns the first column\n",
    "# also works for > 2 dimensions\n",
    "for col_index in np.ndindex(x.shape[1]):\n",
    "    print(sum(x.T[col_index]))"
   ]
  },
  {
   "cell_type": "markdown",
   "id": "6e3bd7d6",
   "metadata": {},
   "source": [
    "## Common Use Cases\n",
    "\n",
    "### Creating Arrays"
   ]
  },
  {
   "cell_type": "code",
   "execution_count": 14,
   "id": "1580a7e1",
   "metadata": {},
   "outputs": [
    {
     "data": {
      "text/plain": [
       "array([[0., 0.],\n",
       "       [0., 0.]])"
      ]
     },
     "execution_count": 14,
     "metadata": {},
     "output_type": "execute_result"
    }
   ],
   "source": [
    "# Create array of zeros\n",
    "np.zeros([2, 2])"
   ]
  },
  {
   "cell_type": "code",
   "execution_count": 15,
   "id": "fa177a34",
   "metadata": {},
   "outputs": [
    {
     "data": {
      "text/plain": [
       "array([[1., 1.],\n",
       "       [1., 1.]])"
      ]
     },
     "execution_count": 15,
     "metadata": {},
     "output_type": "execute_result"
    }
   ],
   "source": [
    "# Array of ones\n",
    "np.ones([2, 2])"
   ]
  },
  {
   "cell_type": "code",
   "execution_count": 16,
   "id": "89391e99",
   "metadata": {},
   "outputs": [
    {
     "data": {
      "text/plain": [
       "array([[10, 10],\n",
       "       [10, 10]])"
      ]
     },
     "execution_count": 16,
     "metadata": {},
     "output_type": "execute_result"
    }
   ],
   "source": [
    "# Array of specific value\n",
    "np.full([2, 2], 10)"
   ]
  },
  {
   "cell_type": "code",
   "execution_count": 17,
   "id": "b66a9451",
   "metadata": {},
   "outputs": [
    {
     "data": {
      "text/plain": [
       "array([[1., 1.],\n",
       "       [1., 1.]])"
      ]
     },
     "execution_count": 17,
     "metadata": {},
     "output_type": "execute_result"
    }
   ],
   "source": [
    "# Allocated but not filled\n",
    "np.empty([2, 2])"
   ]
  },
  {
   "cell_type": "code",
   "execution_count": 18,
   "id": "cb96e5ad",
   "metadata": {},
   "outputs": [
    {
     "data": {
      "text/plain": [
       "array([10, 10, 10, 10, 10])"
      ]
     },
     "execution_count": 18,
     "metadata": {},
     "output_type": "execute_result"
    }
   ],
   "source": [
    "# Similar to full\n",
    "np.repeat(10, 5)"
   ]
  },
  {
   "cell_type": "code",
   "execution_count": 19,
   "id": "9d82d041",
   "metadata": {},
   "outputs": [
    {
     "data": {
      "text/plain": [
       "array([1, 1, 1, 1, 1, 2, 2, 2, 2, 2, 3, 3, 3, 3, 3, 4, 4, 4, 4, 4])"
      ]
     },
     "execution_count": 19,
     "metadata": {},
     "output_type": "execute_result"
    }
   ],
   "source": [
    "# Can also repeat arrays\n",
    "np.repeat([1, 2, 3, 4], 5)"
   ]
  },
  {
   "cell_type": "code",
   "execution_count": 20,
   "id": "b1d15caf",
   "metadata": {},
   "outputs": [
    {
     "data": {
      "text/plain": [
       "array([[1, 2, 1, 2, 1, 2, 1, 2],\n",
       "       [3, 4, 3, 4, 3, 4, 3, 4]])"
      ]
     },
     "execution_count": 20,
     "metadata": {},
     "output_type": "execute_result"
    }
   ],
   "source": [
    "np.tile([[1, 2], [3, 4]], 4)"
   ]
  },
  {
   "cell_type": "code",
   "execution_count": 21,
   "id": "c6675fac",
   "metadata": {},
   "outputs": [
    {
     "data": {
      "text/plain": [
       "array([1, 2, 3, 4])"
      ]
     },
     "execution_count": 21,
     "metadata": {},
     "output_type": "execute_result"
    }
   ],
   "source": [
    "### Adding Dimensions\n",
    "x = np.array([[1, 2], [3, 4]]).reshape(4)\n",
    "x"
   ]
  },
  {
   "cell_type": "code",
   "execution_count": 22,
   "id": "69e0d9b3",
   "metadata": {},
   "outputs": [
    {
     "data": {
      "text/plain": [
       "array([[1, 2, 3, 4]])"
      ]
     },
     "execution_count": 22,
     "metadata": {},
     "output_type": "execute_result"
    }
   ],
   "source": [
    "x.reshape([1, 4])"
   ]
  },
  {
   "cell_type": "code",
   "execution_count": 23,
   "id": "8fa8a546",
   "metadata": {},
   "outputs": [
    {
     "data": {
      "text/plain": [
       "array([[1, 2, 3, 4, 5, 6, 7, 8, 9]])"
      ]
     },
     "execution_count": 23,
     "metadata": {},
     "output_type": "execute_result"
    }
   ],
   "source": [
    "x = np.arange(1, 10)\n",
    "np.atleast_2d(x)"
   ]
  },
  {
   "cell_type": "code",
   "execution_count": 24,
   "id": "c10f390f",
   "metadata": {},
   "outputs": [
    {
     "data": {
      "text/plain": [
       "array([[1],\n",
       "       [2],\n",
       "       [3],\n",
       "       [4],\n",
       "       [5],\n",
       "       [6],\n",
       "       [7],\n",
       "       [8],\n",
       "       [9]])"
      ]
     },
     "execution_count": 24,
     "metadata": {},
     "output_type": "execute_result"
    }
   ],
   "source": [
    "x = np.arange(1, 10)\n",
    "x = x[:, np.newaxis]\n",
    "x"
   ]
  },
  {
   "cell_type": "code",
   "execution_count": 25,
   "id": "3438bb2e",
   "metadata": {},
   "outputs": [
    {
     "data": {
      "text/plain": [
       "array([1, 2, 3, 4, 5, 6, 7, 8, 9])"
      ]
     },
     "execution_count": 25,
     "metadata": {},
     "output_type": "execute_result"
    }
   ],
   "source": [
    "# Removing dimension\n",
    "x = np.array([[1, 2, 3, 4, 5, 6, 7, 8, 9]])\n",
    "np.squeeze(x)"
   ]
  },
  {
   "cell_type": "markdown",
   "id": "89fa2fd3",
   "metadata": {},
   "source": [
    "### Selecting Values"
   ]
  },
  {
   "cell_type": "code",
   "execution_count": 26,
   "id": "af16f138",
   "metadata": {},
   "outputs": [
    {
     "data": {
      "text/plain": [
       "array([6, 7, 8, 9])"
      ]
     },
     "execution_count": 26,
     "metadata": {},
     "output_type": "execute_result"
    }
   ],
   "source": [
    "# Select values according to some condition\n",
    "x = np.arange(10)\n",
    "x[x > 5]"
   ]
  },
  {
   "cell_type": "code",
   "execution_count": 27,
   "id": "8b924057",
   "metadata": {},
   "outputs": [
    {
     "data": {
      "text/plain": [
       "array([0, 0, 0, 0, 0, 6, 7, 8, 9])"
      ]
     },
     "execution_count": 27,
     "metadata": {},
     "output_type": "execute_result"
    }
   ],
   "source": [
    "# Update values where conditions are met\n",
    "x = np.arange(1, 10)\n",
    "np.where(x > 5, x, 0)"
   ]
  },
  {
   "cell_type": "code",
   "execution_count": 28,
   "id": "3048b2c5",
   "metadata": {},
   "outputs": [
    {
     "data": {
      "text/plain": [
       "array([2, 3])"
      ]
     },
     "execution_count": 28,
     "metadata": {},
     "output_type": "execute_result"
    }
   ],
   "source": [
    "# Get multiple values by index - 1D\n",
    "x = np.array([1, 2, 3, 4])\n",
    "x[[1, 2]]"
   ]
  },
  {
   "cell_type": "code",
   "execution_count": 29,
   "id": "1f343431",
   "metadata": {},
   "outputs": [
    {
     "data": {
      "text/plain": [
       "array([2, 3])"
      ]
     },
     "execution_count": 29,
     "metadata": {},
     "output_type": "execute_result"
    }
   ],
   "source": [
    "x.take([1, 2])"
   ]
  },
  {
   "cell_type": "code",
   "execution_count": 30,
   "id": "9a832907",
   "metadata": {},
   "outputs": [
    {
     "data": {
      "text/plain": [
       "array([1, 5])"
      ]
     },
     "execution_count": 30,
     "metadata": {},
     "output_type": "execute_result"
    }
   ],
   "source": [
    "# Get multiple values by index - 2D\n",
    "x = np.array([[1, 2, 3], [4, 5, 6]])\n",
    "\n",
    "# we want to get the elements at index (0, 0) and (1, 1)\n",
    "x[[0, 1], [0, 1]]"
   ]
  },
  {
   "cell_type": "code",
   "execution_count": 31,
   "id": "47a27da7",
   "metadata": {},
   "outputs": [
    {
     "data": {
      "text/plain": [
       "array([4])"
      ]
     },
     "execution_count": 31,
     "metadata": {},
     "output_type": "execute_result"
    }
   ],
   "source": [
    "# multiple values in condition\n",
    "\n",
    "x = np.arange(1, 10)\n",
    "x[np.isin(x, [4, 16])]"
   ]
  },
  {
   "cell_type": "markdown",
   "id": "c128bf30",
   "metadata": {},
   "source": [
    "### Aggregate Functions"
   ]
  },
  {
   "cell_type": "code",
   "execution_count": 32,
   "id": "99eda71e",
   "metadata": {},
   "outputs": [
    {
     "data": {
      "text/plain": [
       "(3.5, 21, 1.707825127659933, 3.5)"
      ]
     },
     "execution_count": 32,
     "metadata": {},
     "output_type": "execute_result"
    }
   ],
   "source": [
    "# By default aggrgate functions work on the entire array \n",
    "\n",
    "x = np.array([[1, 2, 3], [4, 5, 6]])\n",
    "x.mean(), x.sum(), x.std(), x.mean()"
   ]
  },
  {
   "cell_type": "code",
   "execution_count": 33,
   "id": "a3297ea7",
   "metadata": {},
   "outputs": [
    {
     "data": {
      "text/plain": [
       "array([2.5, 3.5, 4.5])"
      ]
     },
     "execution_count": 33,
     "metadata": {},
     "output_type": "execute_result"
    }
   ],
   "source": [
    "# We can also specify which axis\n",
    "\n",
    "x = np.array([[1, 2, 3], [4, 5, 6]])\n",
    "x.mean(axis=0)"
   ]
  },
  {
   "cell_type": "code",
   "execution_count": 34,
   "id": "bd9344a5",
   "metadata": {},
   "outputs": [
    {
     "name": "stdout",
     "output_type": "stream",
     "text": [
      "[  0  30  60  90 120 150]\n",
      "[0.        0.5       0.8660254 1.        0.8660254 0.5      ]\n"
     ]
    }
   ],
   "source": [
    "## Elementwise Functions\n",
    "\n",
    "x = np.arange(0, 180, 30)\n",
    "print(x)\n",
    "print(np.sin(np.radians(x)))"
   ]
  },
  {
   "cell_type": "markdown",
   "id": "1ebdd9ac",
   "metadata": {},
   "source": [
    "### Matrix And Linear Algebra"
   ]
  },
  {
   "cell_type": "code",
   "execution_count": 35,
   "id": "42503046",
   "metadata": {},
   "outputs": [
    {
     "data": {
      "text/plain": [
       "14"
      ]
     },
     "execution_count": 35,
     "metadata": {},
     "output_type": "execute_result"
    }
   ],
   "source": [
    "# dot product of two vectors\n",
    "np.dot([1, 2, 3], [1, 2, 3])"
   ]
  },
  {
   "cell_type": "code",
   "execution_count": 36,
   "id": "9819b1d5",
   "metadata": {},
   "outputs": [
    {
     "data": {
      "text/plain": [
       "array([[14]])"
      ]
     },
     "execution_count": 36,
     "metadata": {},
     "output_type": "execute_result"
    }
   ],
   "source": [
    "# Matrix multiplication\n",
    "np.matmul([[1, 2, 3]], [[1], [2], [3]])"
   ]
  },
  {
   "cell_type": "code",
   "execution_count": 37,
   "id": "29833240",
   "metadata": {},
   "outputs": [
    {
     "data": {
      "text/plain": [
       "array([[1., 0., 0., 0., 0.],\n",
       "       [0., 1., 0., 0., 0.],\n",
       "       [0., 0., 1., 0., 0.],\n",
       "       [0., 0., 0., 1., 0.],\n",
       "       [0., 0., 0., 0., 1.]])"
      ]
     },
     "execution_count": 37,
     "metadata": {},
     "output_type": "execute_result"
    }
   ],
   "source": [
    "# identity matrix\n",
    "np.eye(5)"
   ]
  },
  {
   "cell_type": "code",
   "execution_count": 38,
   "id": "c5382588",
   "metadata": {},
   "outputs": [
    {
     "data": {
      "text/plain": [
       "array([[ 1.,  0.,  0.,  0.,  0.],\n",
       "       [ 0.,  1.,  0.,  0.,  0.],\n",
       "       [ 0.,  0.,  1.,  0.,  0.],\n",
       "       [-0., -0., -0.,  1., -0.],\n",
       "       [ 0.,  0.,  0.,  0.,  1.]])"
      ]
     },
     "execution_count": 38,
     "metadata": {},
     "output_type": "execute_result"
    }
   ],
   "source": [
    "# inverse of a matrix\n",
    "np.linalg.inv(np.eye(5))"
   ]
  },
  {
   "cell_type": "code",
   "execution_count": 39,
   "id": "b9cffb19",
   "metadata": {},
   "outputs": [
    {
     "data": {
      "text/plain": [
       "array([-1.,  1.])"
      ]
     },
     "execution_count": 39,
     "metadata": {},
     "output_type": "execute_result"
    }
   ],
   "source": [
    "# solve system of linear equations\n",
    "# x0 + 2 * x1 = 1 and 3 * x0 + 5 * x1 = 2\n",
    "\n",
    "A = [[1, 2], [3, 5]]\n",
    "b = [1, 2]\n",
    "\n",
    "# Solve Ax = b\n",
    "np.linalg.solve(A, b)"
   ]
  },
  {
   "cell_type": "code",
   "execution_count": 40,
   "id": "141d09bc",
   "metadata": {},
   "outputs": [
    {
     "data": {
      "text/plain": [
       "array([[1, 0, 0],\n",
       "       [0, 2, 0],\n",
       "       [0, 0, 3]])"
      ]
     },
     "execution_count": 40,
     "metadata": {},
     "output_type": "execute_result"
    }
   ],
   "source": [
    "# Eigenvalues and EigenVectors\n",
    "\n",
    "x = np.diag((1, 2, 3))\n",
    "x"
   ]
  },
  {
   "cell_type": "code",
   "execution_count": 41,
   "id": "710f364f",
   "metadata": {},
   "outputs": [
    {
     "data": {
      "text/plain": [
       "(array([1., 2., 3.]),\n",
       " array([[1., 0., 0.],\n",
       "        [0., 1., 0.],\n",
       "        [0., 0., 1.]]))"
      ]
     },
     "execution_count": 41,
     "metadata": {},
     "output_type": "execute_result"
    }
   ],
   "source": [
    "evals, evecs = np.linalg.eig(x)\n",
    "evals, evecs"
   ]
  },
  {
   "cell_type": "markdown",
   "id": "252d3a79",
   "metadata": {},
   "source": [
    "## Structure and Record Arrays\n",
    "\n",
    "In some applications where we have 2D data, we have to execute a lot of column related operations, e.g. what are the average sales every month by region? In these situation, it's not nice to work directly with numpy arrays. In the above example, we have to remember the column index for the value we want to aggregate. Numpy structure arrays solve this problem."
   ]
  },
  {
   "cell_type": "code",
   "execution_count": 42,
   "id": "a5a87f31",
   "metadata": {},
   "outputs": [],
   "source": [
    "sales = np.array(\n",
    "    [\n",
    "        (100, 'jan', 'uk'), \n",
    "        (270, 'jan', 'eu'),\n",
    "        (120, 'feb', 'uk'), \n",
    "        (250, 'feb', 'eu'),\n",
    "    ],\n",
    "    dtype=[('qty', 'int'), ('month', 'U3'), ('region', 'U2')]\n",
    ")\n",
    "\n",
    "sales = sales.view(np.recarray)"
   ]
  },
  {
   "cell_type": "code",
   "execution_count": 43,
   "id": "9749f2e2",
   "metadata": {},
   "outputs": [
    {
     "data": {
      "text/plain": [
       "rec.array([(100, 'jan', 'uk'), (270, 'jan', 'eu'), (120, 'feb', 'uk'),\n",
       "           (250, 'feb', 'eu')],\n",
       "          dtype=[('qty', '<i8'), ('month', '<U3'), ('region', '<U2')])"
      ]
     },
     "execution_count": 43,
     "metadata": {},
     "output_type": "execute_result"
    }
   ],
   "source": [
    "sales"
   ]
  },
  {
   "cell_type": "code",
   "execution_count": 44,
   "id": "65bedc37",
   "metadata": {},
   "outputs": [
    {
     "data": {
      "text/plain": [
       "array([270])"
      ]
     },
     "execution_count": 44,
     "metadata": {},
     "output_type": "execute_result"
    }
   ],
   "source": [
    "# What are the jan sales in EU region?\n",
    "jan_eu_filter = np.logical_and(sales.region == 'eu', sales.month == 'jan')\n",
    "sales[jan_eu_filter].qty"
   ]
  },
  {
   "cell_type": "markdown",
   "id": "e6c21e1f",
   "metadata": {},
   "source": [
    "## Working with Missing Data\n",
    "\n",
    "In real life, working with missing data is often a prerequisite. Most of the numpy data reading methods replace missing data with ``np.nan``. This is a special value in the IEEE 754 floating point specification. The other special value is ``np.inf``. Use ``-np.inf`` for negative infinity.\n",
    "\n",
    "Most of the numpy functions do not handle ``np.nan`` or ``np.inf`` well. For example,"
   ]
  },
  {
   "cell_type": "code",
   "execution_count": 45,
   "id": "5ceeb9a8",
   "metadata": {},
   "outputs": [
    {
     "data": {
      "text/plain": [
       "nan"
      ]
     },
     "execution_count": 45,
     "metadata": {},
     "output_type": "execute_result"
    }
   ],
   "source": [
    "x = np.array([10, 1, 5, np.nan, 2.5])\n",
    "np.max(x)"
   ]
  },
  {
   "cell_type": "markdown",
   "id": "4ac5e234",
   "metadata": {},
   "source": [
    "The general pattern for processing 1D arrays like these are\n",
    "\n",
    "1. Remove the nan & infinity instances\n",
    "2. Execute numpy ops\n",
    "3. If required, put back the nan & infinity instances."
   ]
  },
  {
   "cell_type": "code",
   "execution_count": 48,
   "id": "43012aab",
   "metadata": {},
   "outputs": [
    {
     "data": {
      "text/plain": [
       "10.0"
      ]
     },
     "execution_count": 48,
     "metadata": {},
     "output_type": "execute_result"
    }
   ],
   "source": [
    "# note that nan != nan, so we have to use the special nan handling method\n",
    "x = x[~np.isnan(x)]\n",
    "np.max(x)"
   ]
  },
  {
   "cell_type": "code",
   "execution_count": 50,
   "id": "dfb983b8",
   "metadata": {},
   "outputs": [
    {
     "data": {
      "text/plain": [
       "10.0"
      ]
     },
     "execution_count": 50,
     "metadata": {},
     "output_type": "execute_result"
    }
   ],
   "source": [
    "# Use np.isfinite() to keep only finite, non-nan data points\n",
    "x = np.array([10, 1, 5, np.nan, np.inf, 2.5])\n",
    "np.max(x[np.isfinite(x)])"
   ]
  },
  {
   "cell_type": "markdown",
   "id": "de3c382e",
   "metadata": {},
   "source": [
    "This strategy doesn't generalize to 2D or higher dimensional data. Every row in a 2D array might contain different number of nans. Removing them will result in a jagged array which doesn't fit the numpy tabular structure. This results in a lot of application specific code."
   ]
  },
  {
   "cell_type": "code",
   "execution_count": 56,
   "id": "70844fab",
   "metadata": {},
   "outputs": [
    {
     "name": "stdout",
     "output_type": "stream",
     "text": [
      "[nan nan]\n"
     ]
    },
    {
     "data": {
      "text/plain": [
       "array([2., 4.])"
      ]
     },
     "execution_count": 56,
     "metadata": {},
     "output_type": "execute_result"
    }
   ],
   "source": [
    "x = np.array([\n",
    "    [1.0, 2.0, np.nan, np.nan],\n",
    "    [np.nan, 1.0, 3.0, 4.0]\n",
    "])\n",
    "\n",
    "# max for every row in x\n",
    "print(np.max(x, axis=1))\n",
    "\n",
    "def nansafe_max(row):\n",
    "    return np.max(row[np.isfinite(row)])\n",
    "\n",
    "np.apply_along_axis(nansafe_max, 1, x)"
   ]
  },
  {
   "cell_type": "markdown",
   "id": "6e3f5071",
   "metadata": {},
   "source": [
    "In some cases, there are nansafe versions of numpy functions. For example:"
   ]
  },
  {
   "cell_type": "code",
   "execution_count": 58,
   "id": "dfa63f31",
   "metadata": {},
   "outputs": [
    {
     "data": {
      "text/plain": [
       "array([2., 4.])"
      ]
     },
     "execution_count": 58,
     "metadata": {},
     "output_type": "execute_result"
    }
   ],
   "source": [
    "x = np.array([\n",
    "    [1.0, 2.0, np.nan, np.nan],\n",
    "    [np.nan, 1.0, 3.0, 4.0]\n",
    "])\n",
    "np.nanmax(x, axis=1)"
   ]
  },
  {
   "cell_type": "markdown",
   "id": "17eaea16",
   "metadata": {},
   "source": [
    "Another alternative is to use the <a href=\"https://numpy.org/doc/stable/reference/maskedarray.html\">masked array</a> feature of numpy. This is a more flexible and generic way of handling missing and invalid values."
   ]
  },
  {
   "cell_type": "code",
   "execution_count": 69,
   "id": "c38fda27",
   "metadata": {},
   "outputs": [
    {
     "data": {
      "text/plain": [
       "masked_array(data=[--, 1.0, 2.0, --, 3.0, 1.0, 0.0, 2.0, --, --],\n",
       "             mask=[ True, False, False,  True, False, False, False, False,\n",
       "                    True,  True],\n",
       "       fill_value=1e+20)"
      ]
     },
     "execution_count": 69,
     "metadata": {},
     "output_type": "execute_result"
    }
   ],
   "source": [
    "import numpy.ma as ma\n",
    "\n",
    "x = [-1, 1, 2, -1, 3, 1, 0, 2, np.nan, np.inf]\n",
    "\n",
    "# (-1, nan, inf) values are invalid \n",
    "cond = np.logical_or(~np.isfinite(x), np.isin(x, [-1]))\n",
    "m_x = ma.masked_where(cond, x)\n",
    "\n",
    "m_x"
   ]
  },
  {
   "cell_type": "code",
   "execution_count": 70,
   "id": "c53cfb40",
   "metadata": {},
   "outputs": [
    {
     "data": {
      "text/plain": [
       "1.5"
      ]
     },
     "execution_count": 70,
     "metadata": {},
     "output_type": "execute_result"
    }
   ],
   "source": [
    "ma.mean(m_x)"
   ]
  },
  {
   "cell_type": "markdown",
   "id": "8c394caa",
   "metadata": {},
   "source": [
    "## Broadcast\n",
    "\n",
    "This is a feature of numpy that comes into play in arithmetic operations involving multiple numpy arrays. When one of the arrays is different in shape from the other arrays, numpy can automatically adjust smaller array so that it is compatible with the larger array in shape. This happens in the C layer of numpy, without making data copies, allowing efficient vectorized implementation.\n",
    "\n",
    "<img src=\"https://jakevdp.github.io/PythonDataScienceHandbook/figures/02.05-broadcasting.png\">"
   ]
  },
  {
   "cell_type": "markdown",
   "id": "6cfb1b92",
   "metadata": {},
   "source": [
    "## Resources\n",
    "\n",
    "* <a href=\"https://bedford-computing.co.uk/learning/wp-content/uploads/2015/10/Python-for-Data-Analysis.pdf\">Python for Data Analysis by Wes McKinney</a>\n",
    "\n",
    "* <a href=\"https://s3.amazonaws.com/assets.datacamp.com/blog_assets/Numpy_Python_Cheat_Sheet.pdf\">numpy cheat sheet</a>"
   ]
  }
 ],
 "metadata": {
  "kernelspec": {
   "display_name": "Python 3 (ipykernel)",
   "language": "python",
   "name": "python3"
  },
  "language_info": {
   "codemirror_mode": {
    "name": "ipython",
    "version": 3
   },
   "file_extension": ".py",
   "mimetype": "text/x-python",
   "name": "python",
   "nbconvert_exporter": "python",
   "pygments_lexer": "ipython3",
   "version": "3.9.7"
  },
  "toc": {
   "base_numbering": 1,
   "nav_menu": {},
   "number_sections": true,
   "sideBar": true,
   "skip_h1_title": false,
   "title_cell": "Table of Contents",
   "title_sidebar": "Contents",
   "toc_cell": false,
   "toc_position": {},
   "toc_section_display": true,
   "toc_window_display": true
  }
 },
 "nbformat": 4,
 "nbformat_minor": 5
}
